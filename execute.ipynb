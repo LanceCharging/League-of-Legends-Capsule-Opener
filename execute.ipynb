{
 "cells": [
  {
   "cell_type": "code",
   "execution_count": 4,
   "metadata": {},
   "outputs": [
    {
     "name": "stdout",
     "output_type": "stream",
     "text": [
      "Screen width: 2560, Screen height: 1600\n"
     ]
    }
   ],
   "source": [
    "import pyautogui\n",
    "screen_width, screen_height = pyautogui.size()\n",
    "print(f\"Screen width: {screen_width}, Screen height: {screen_height}\")\n"
   ]
  },
  {
   "cell_type": "code",
   "execution_count": 6,
   "metadata": {},
   "outputs": [],
   "source": [
    "import winreg\n",
    "registry_key_path = r\"SOFTWARE\\Riot Games\\League of Legends\""
   ]
  },
  {
   "cell_type": "code",
   "execution_count": 9,
   "metadata": {},
   "outputs": [
    {
     "ename": "FileNotFoundError",
     "evalue": "[WinError 2] 지정된 파일을 찾을 수 없습니다",
     "output_type": "error",
     "traceback": [
      "\u001b[1;31m---------------------------------------------------------------------------\u001b[0m",
      "\u001b[1;31mFileNotFoundError\u001b[0m                         Traceback (most recent call last)",
      "Cell \u001b[1;32mIn[9], line 1\u001b[0m\n\u001b[1;32m----> 1\u001b[0m registry_key \u001b[38;5;241m=\u001b[39m \u001b[43mwinreg\u001b[49m\u001b[38;5;241;43m.\u001b[39;49m\u001b[43mOpenKey\u001b[49m\u001b[43m(\u001b[49m\u001b[43mwinreg\u001b[49m\u001b[38;5;241;43m.\u001b[39;49m\u001b[43mHKEY_LOCAL_MACHINE\u001b[49m\u001b[43m,\u001b[49m\u001b[43m \u001b[49m\u001b[38;5;124;43mr\u001b[39;49m\u001b[38;5;124;43m\"\u001b[39;49m\u001b[38;5;124;43mSOFTWARE\u001b[39;49m\u001b[38;5;124;43m\\\u001b[39;49m\u001b[38;5;124;43mRiot Games\u001b[39;49m\u001b[38;5;124;43m\"\u001b[39;49m\u001b[43m,\u001b[49m\u001b[43m \u001b[49m\u001b[38;5;241;43m0\u001b[39;49m\u001b[43m,\u001b[49m\u001b[43m \u001b[49m\u001b[43mwinreg\u001b[49m\u001b[38;5;241;43m.\u001b[39;49m\u001b[43mKEY_READ\u001b[49m\u001b[43m)\u001b[49m\n",
      "\u001b[1;31mFileNotFoundError\u001b[0m: [WinError 2] 지정된 파일을 찾을 수 없습니다"
     ]
    }
   ],
   "source": [
    "registry_key = winreg.OpenKey(winreg.HKEY_LOCAL_MACHINE, r\"SOFTWARE\\Riot Games\", 0, winreg.KEY_READ)"
   ]
  },
  {
   "cell_type": "code",
   "execution_count": 10,
   "metadata": {},
   "outputs": [
    {
     "ename": "NameError",
     "evalue": "name 'registry_key' is not defined",
     "output_type": "error",
     "traceback": [
      "\u001b[1;31m---------------------------------------------------------------------------\u001b[0m",
      "\u001b[1;31mNameError\u001b[0m                                 Traceback (most recent call last)",
      "Cell \u001b[1;32mIn[10], line 1\u001b[0m\n\u001b[1;32m----> 1\u001b[0m winreg\u001b[38;5;241m.\u001b[39mCloseKey(\u001b[43mregistry_key\u001b[49m)\n",
      "\u001b[1;31mNameError\u001b[0m: name 'registry_key' is not defined"
     ]
    }
   ],
   "source": [
    "winreg.CloseKey(registry_key)"
   ]
  },
  {
   "cell_type": "code",
   "execution_count": 14,
   "metadata": {},
   "outputs": [],
   "source": [
    "import tkinter as tk\n",
    "\n",
    "def greet():\n",
    "    label.config(text=\"Hello, \" + name.get() + \"!\")\n",
    "\n",
    "root = tk.Tk()\n",
    "root.title(\"Simple GUI\")\n",
    "root.geometry(\"300x150\") \n",
    "\n",
    "label = tk.Label(root, text=\"Enter your name:\")\n",
    "label.pack()\n",
    "\n",
    "name = tk.StringVar()\n",
    "entry = tk.Entry(root, textvariable=name)\n",
    "entry.pack()\n",
    "\n",
    "button = tk.Button(root, text=\"Greet\", command=greet)\n",
    "button.pack()\n",
    "\n",
    "root.mainloop()"
   ]
  },
  {
   "cell_type": "code",
   "execution_count": 15,
   "metadata": {},
   "outputs": [],
   "source": [
    "import tkinter as tk\n",
    "\n",
    "def greet():\n",
    "    label.config(text=\"Hello, \" + name.get() + \"!\")\n",
    "\n",
    "# 윈도우 생성\n",
    "root = tk.Tk()\n",
    "root.title(\"Simple GUI\")\n",
    "\n",
    "# 윈도우 크기 설정\n",
    "window_width = 300\n",
    "window_height = 150\n",
    "\n",
    "# 화면의 크기 가져오기\n",
    "screen_width = root.winfo_screenwidth()\n",
    "screen_height = root.winfo_screenheight()\n",
    "\n",
    "# 윈도우를 화면의 정중앙에 위치시키기\n",
    "x = (screen_width - window_width) // 2\n",
    "y = (screen_height - window_height) // 2\n",
    "root.geometry(f\"{window_width}x{window_height}+{x}+{y}\")\n",
    "\n",
    "# 위젯 추가\n",
    "label = tk.Label(root, text=\"Enter your name:\")\n",
    "label.pack()\n",
    "\n",
    "name = tk.StringVar()\n",
    "entry = tk.Entry(root, textvariable=name)\n",
    "entry.pack()\n",
    "\n",
    "button = tk.Button(root, text=\"Greet\", command=greet)\n",
    "button.pack()\n",
    "\n",
    "# 이벤트 루프 시작\n",
    "root.mainloop()\n"
   ]
  },
  {
   "cell_type": "code",
   "execution_count": null,
   "metadata": {},
   "outputs": [],
   "source": []
  }
 ],
 "metadata": {
  "kernelspec": {
   "display_name": "Python 3",
   "language": "python",
   "name": "python3"
  },
  "language_info": {
   "codemirror_mode": {
    "name": "ipython",
    "version": 3
   },
   "file_extension": ".py",
   "mimetype": "text/x-python",
   "name": "python",
   "nbconvert_exporter": "python",
   "pygments_lexer": "ipython3",
   "version": "3.12.3"
  }
 },
 "nbformat": 4,
 "nbformat_minor": 2
}
