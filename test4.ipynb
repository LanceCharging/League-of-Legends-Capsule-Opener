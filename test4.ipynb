{
 "cells": [
  {
   "cell_type": "code",
   "execution_count": 13,
   "metadata": {},
   "outputs": [],
   "source": [
    "import os\n",
    "import tkinter as tk\n",
    "import psutil\n",
    "import ctypes\n",
    "\n",
    "import threading"
   ]
  },
  {
   "cell_type": "code",
   "execution_count": 14,
   "metadata": {},
   "outputs": [],
   "source": [
    "from tqdm import tqdm\n",
    "import time\n",
    "import tkinter.ttk as ttk"
   ]
  },
  {
   "cell_type": "code",
   "execution_count": 15,
   "metadata": {},
   "outputs": [
    {
     "data": {
      "text/plain": [
       "True"
      ]
     },
     "execution_count": 15,
     "metadata": {},
     "output_type": "execute_result"
    }
   ],
   "source": [
    "from dotenv import load_dotenv\n",
    "load_dotenv()"
   ]
  },
  {
   "cell_type": "code",
   "execution_count": 16,
   "metadata": {},
   "outputs": [],
   "source": [
    "def is_lol_running():\n",
    "    for process in psutil.process_iter():\n",
    "        try:\n",
    "            if \"LeagueClient.exe\" in process.name():\n",
    "                return True\n",
    "        except (psutil.NoSuchProcess, psutil.AccessDenied, psutil.ZombieProcess):\n",
    "            pass\n",
    "    return False"
   ]
  },
  {
   "cell_type": "code",
   "execution_count": 17,
   "metadata": {},
   "outputs": [],
   "source": [
    "def set_app_id(app_id):\n",
    "    ctypes.windll.shell32.SetCurrentProcessExplicitAppUserModelID(app_id)\n",
    "\n",
    "set_app_id('LanceCharging.League-of-Legends-Capsule-Opener.01')\n"
   ]
  },
  {
   "cell_type": "code",
   "execution_count": 6,
   "metadata": {},
   "outputs": [
    {
     "data": {
      "text/plain": [
       "\"\\ndef is_leaugeclient_processing():\\n    for process in psutil.process_iter():\\n        if process.name() == 'LeagueClient.exe':\\n            return True\\n    return False\\n\""
      ]
     },
     "execution_count": 6,
     "metadata": {},
     "output_type": "execute_result"
    }
   ],
   "source": [
    "'''\n",
    "def is_leaugeclient_processing():\n",
    "    for process in psutil.process_iter():\n",
    "        if process.name() == 'LeagueClient.exe':\n",
    "            return True\n",
    "    return False\n",
    "'''"
   ]
  },
  {
   "cell_type": "code",
   "execution_count": 7,
   "metadata": {},
   "outputs": [
    {
     "data": {
      "text/plain": [
       "\"\\ndef is_leaugeclient_processing(leagueclient):\\n    leagueclient.pack()\\n\\n\\n    for process in psutil.process_iter():\\n        if process.name() == 'LeagueClient.exe':\\n            leagueclient.config(text='리그 오브 레전드가 실행 중입니다.')\\n            return True\\n    leagueclient.config(text='리그 오브 레전드를 실행시켜 주십시오.')\\n    return False\\n    \""
      ]
     },
     "execution_count": 7,
     "metadata": {},
     "output_type": "execute_result"
    }
   ],
   "source": [
    "'''\n",
    "def is_leaugeclient_processing(leagueclient):\n",
    "    leagueclient.pack()\n",
    "\n",
    "\n",
    "    for process in psutil.process_iter():\n",
    "        if process.name() == 'LeagueClient.exe':\n",
    "            leagueclient.config(text='리그 오브 레전드가 실행 중입니다.')\n",
    "            return True\n",
    "    leagueclient.config(text='리그 오브 레전드를 실행시켜 주십시오.')\n",
    "    return False\n",
    "    '''"
   ]
  },
  {
   "cell_type": "code",
   "execution_count": 8,
   "metadata": {},
   "outputs": [],
   "source": [
    "\n",
    "def is_leaugeclient_processing():\n",
    "    \n",
    "    leagueclient.grid(row=0,column=0, padx=0, pady=25)\n",
    "\n",
    "    #leagueclient.pack()\n",
    "\n",
    "    def check_process():\n",
    "        for process in psutil.process_iter():\n",
    "            if process.name() == 'LeagueClient.exe':\n",
    "                # leagueclient.config(text='리그 오브 레전드가 실행 중입니다')\n",
    "\n",
    "                Summon_Scavengers()\n",
    "\n",
    "                return 0\n",
    "        leagueclient.config(text='탐색 실패\\n\\n리그 오브 레전드를 실행시켜 주십시오')\n",
    "        return 0\n",
    "    \n",
    "    thread_searching_process = threading.Thread(target=check_process) # 여기서도 역시 함수의 호출이 아닌 '함수'만을 전달해야 함\n",
    "    thread_searching_process.start()\n",
    "\n",
    "\n",
    "    return 0"
   ]
  },
  {
   "cell_type": "code",
   "execution_count": 9,
   "metadata": {},
   "outputs": [],
   "source": [
    "def Summon_Scavengers():\n",
    "    leagueclient.grid_forget()\n",
    "    \n",
    "    box_open.pack()\n",
    "    capsule_open.pack()\n",
    "    champion_button.pack()\n",
    "\n",
    "    return 0"
   ]
  },
  {
   "cell_type": "code",
   "execution_count": 10,
   "metadata": {},
   "outputs": [
    {
     "data": {
      "text/plain": [
       "'\\nbox_open.grid(row=100,column=0, padx=0, pady=100)\\ncapsule_open.grid(row=0,column=0, padx=0, pady=50)\\nchampion_button.grid(row=0,column=0, padx=0, pady=0)\\n'"
      ]
     },
     "execution_count": 10,
     "metadata": {},
     "output_type": "execute_result"
    }
   ],
   "source": [
    "'''\n",
    "box_open.grid(row=100,column=0, padx=0, pady=100)\n",
    "capsule_open.grid(row=0,column=0, padx=0, pady=50)\n",
    "champion_button.grid(row=0,column=0, padx=0, pady=0)\n",
    "'''"
   ]
  },
  {
   "cell_type": "code",
   "execution_count": 11,
   "metadata": {},
   "outputs": [],
   "source": [
    "def Scavenger(mod):\n",
    "    if mod == \"box_open\":\n",
    "        pass\n",
    "    elif mod == \"capsule_open\":\n",
    "        pass\n",
    "    elif mod == \"champion_button\":\n",
    "        pass\n",
    "\n",
    "\n",
    "\n",
    "\n",
    "    return 0\n"
   ]
  },
  {
   "cell_type": "code",
   "execution_count": 43,
   "metadata": {},
   "outputs": [],
   "source": [
    "import pygetwindow as gw\n",
    "from pywinauto import application"
   ]
  },
  {
   "cell_type": "code",
   "execution_count": 44,
   "metadata": {},
   "outputs": [],
   "source": [
    "import pygetwindow as gw\n",
    "from pywinauto import application"
   ]
  },
  {
   "cell_type": "code",
   "execution_count": 82,
   "metadata": {},
   "outputs": [],
   "source": [
    "def ready():\n",
    "    windows = gw.getAllTitles()\n",
    "    windows_states = {}\n",
    "\n",
    "    for window in windows:\n",
    "        if window != '':\n",
    "            windows_states[window] = {'Maximized' : gw.getWindowsWithTitle(window)[0].isMaximized, 'Minimized' : gw.getWindowsWithTitle(window)[0].isMinimized} # 두 정보를 모두 저장하는 이유 -> minimized와 maximized외의 다른 상태가 있기 때문... '작업표시줄에 숨겨져 있지 않음'과 'maximized'는 동치가 아님\n",
    "            \n",
    "            if window == 'League of Legends':\n",
    "                try:\n",
    "                    gw.getWindowsWithTitle(window)[0].restore() # 리오레는 .maximize()'으로 최대화되지 않아서 억지로 시키면 깨짐 & 애초에 굳이 최대화시킬 필요도 없음\n",
    "                except:\n",
    "                    pass\n",
    "\n",
    "            else:\n",
    "                try:\n",
    "                    gw.getWindowsWithTitle(window)[0].minimize()\n",
    "                except:\n",
    "                    pass\n",
    "    \n",
    "    return windows_states"
   ]
  },
  {
   "cell_type": "code",
   "execution_count": 83,
   "metadata": {},
   "outputs": [],
   "source": [
    "windows_states = ready()"
   ]
  },
  {
   "cell_type": "code",
   "execution_count": 84,
   "metadata": {},
   "outputs": [
    {
     "data": {
      "text/plain": [
       "{'● test4.ipynb - League-of-Legends-Capsule-Opener - Visual Studio Code': {'Maximized': False,\n",
       "  'Minimized': False},\n",
       " 'ChatGPT - Chrome': {'Maximized': False, 'Minimized': False},\n",
       " 'MINGW64:/c/Users/crypt/WorkSpace_C/projects_240529~/League-of-Legends-Capsule-Opener': {'Maximized': False,\n",
       "  'Minimized': True},\n",
       " 'NVIDIA GeForce Overlay': {'Maximized': False, 'Minimized': True},\n",
       " 'Windows 입력 환경': {'Maximized': False, 'Minimized': True},\n",
       " '쉐프': {'Maximized': False, 'Minimized': True},\n",
       " '진우': {'Maximized': False, 'Minimized': True},\n",
       " '설정': {'Maximized': False, 'Minimized': True},\n",
       " '진우, 조중현, 김민석': {'Maximized': False, 'Minimized': True},\n",
       " 'League of Legends': {'Maximized': False, 'Minimized': True},\n",
       " 'Program Manager': {'Maximized': False, 'Minimized': False}}"
      ]
     },
     "execution_count": 84,
     "metadata": {},
     "output_type": "execute_result"
    }
   ],
   "source": [
    "windows_states"
   ]
  },
  {
   "cell_type": "code",
   "execution_count": null,
   "metadata": {},
   "outputs": [],
   "source": [
    "def restore(windows_states):\n",
    "    windows_states = {}\n",
    "\n",
    "    for key in windows_states.keys()[::-1]:\n",
    "        if windows_states[key]['Maximized'] == True:\n",
    "\n",
    "\n",
    "\n",
    "    for window in windows:\n",
    "        if window != '':\n",
    "            windows_states[window] = {'Maximized' : gw.getWindowsWithTitle(window)[0].isMaximized, 'Minimized' : gw.getWindowsWithTitle(window)[0].isMinimized} # 두 정보를 모두 저장하는 이유 -> minimized와 maximized외의 다른 상태가 있기 때문... '작업표시줄에 숨겨져 있지 않음'과 'maximized'는 동치가 아님\n",
    "            \n",
    "            if window == 'League of Legends':\n",
    "                try:\n",
    "                    gw.getWindowsWithTitle(window)[0].restore() # 리오레는 .maximize()'으로 최대화되지 않아서 억지로 시키면 깨짐 & 애초에 굳이 최대화시킬 필요도 없음\n",
    "                except:\n",
    "                    pass\n",
    "\n",
    "            else:\n",
    "                try:\n",
    "                    gw.getWindowsWithTitle(window)[0].minimize()\n",
    "                except:\n",
    "                    pass\n",
    "    \n",
    "    return 0"
   ]
  },
  {
   "cell_type": "code",
   "execution_count": 32,
   "metadata": {},
   "outputs": [
    {
     "data": {
      "text/plain": [
       "'League of Legends'"
      ]
     },
     "execution_count": 32,
     "metadata": {},
     "output_type": "execute_result"
    }
   ],
   "source": [
    "'LEAGUE OF LEGENDS CAPTULE OPENER'\n",
    "'League of Legends'"
   ]
  },
  {
   "cell_type": "code",
   "execution_count": 108,
   "metadata": {},
   "outputs": [],
   "source": [
    "gw.getWindowsWithTitle('League of Legends')[0].minimize()"
   ]
  },
  {
   "cell_type": "code",
   "execution_count": 109,
   "metadata": {},
   "outputs": [
    {
     "data": {
      "text/plain": [
       "[Win32Window(hWnd=17960690)]"
      ]
     },
     "execution_count": 109,
     "metadata": {},
     "output_type": "execute_result"
    }
   ],
   "source": [
    "gw.getWindowsWithTitle('League of Legends')"
   ]
  },
  {
   "cell_type": "code",
   "execution_count": 114,
   "metadata": {},
   "outputs": [],
   "source": [
    "gw.getWindowsWithTitle('League of Legends')[0].maximize()"
   ]
  },
  {
   "cell_type": "code",
   "execution_count": null,
   "metadata": {},
   "outputs": [],
   "source": [
    "app = application.Application().connect(title_re=target_title, found_index=0)\n",
    "        window = app.window(title_re=target_title)\n",
    "        window.set_focus()\n",
    "        window.set_topmost(True)  # 가장 위로 설정\n",
    "        window.set_topmost(False)"
   ]
  },
  {
   "cell_type": "code",
   "execution_count": null,
   "metadata": {},
   "outputs": [],
   "source": []
  },
  {
   "cell_type": "code",
   "execution_count": null,
   "metadata": {},
   "outputs": [],
   "source": []
  },
  {
   "cell_type": "code",
   "execution_count": null,
   "metadata": {},
   "outputs": [],
   "source": []
  },
  {
   "cell_type": "code",
   "execution_count": 33,
   "metadata": {},
   "outputs": [],
   "source": [
    "\n"
   ]
  },
  {
   "cell_type": "code",
   "execution_count": 28,
   "metadata": {},
   "outputs": [],
   "source": [
    "main_window = tk.Tk()\n",
    "main_window.title(\"LEAGUE OF LEGENDS CAPTULE OPENER\")\n",
    "#main_window.configure(bg='black')\n",
    "#main_window.iconbitmap(os.getcwd()+r'/icon/excalibur.ico')\n",
    "\n",
    "\n",
    "WINDOW_HEIGHT = int(os.getenv(\"MAIN_WINDOW_HEIGHT\"))\n",
    "WINDOW_WIDTH = int(os.getenv(\"MAIN_WINDOW_WIDTH\"))\n",
    "\n",
    "screen_height = main_window.winfo_screenheight()\n",
    "screen_width = main_window.winfo_screenwidth()\n",
    "\n",
    "delta_x = (screen_width - WINDOW_WIDTH) // 2\n",
    "delta_y= (screen_height - WINDOW_HEIGHT) // 2\n",
    "\n",
    "main_window.geometry(f\"{WINDOW_WIDTH}x{WINDOW_HEIGHT}+{delta_x}+{delta_y}\")\n",
    "\n",
    "\n",
    "\n",
    "main_window.iconbitmap(os.getcwd()+r'/icon/excalibur.ico') # 창\n",
    "main_window.iconphoto(True, tk.PhotoImage(file=os.getcwd()+r'/icon/excalibur.png')) # 작업표시줄\n",
    "\n",
    "\n",
    "main_window.attributes('-topmost', True)\n",
    "main_window.attributes('-fullscreen', False)\n",
    "main_window.state('normal')\n",
    "main_window.resizable(False, False)\n",
    "\n",
    "main_window.grid_columnconfigure(0, weight=1)  # 열 가중치 설정\n",
    "\n",
    "leagueclient = tk.Label(main_window, text=\"리그 오브 레전드 : 탐색 중\", font=(\"Arial\", 13))\n",
    "\n",
    "box_open = tk.Button(main_window, text=\"명품 상자\", command=lambda : Scavenger(mod = \"box_open\"))\n",
    "capsule_open = tk.Button(main_window, text=\"챔피언 캡슐\", command=lambda : Scavenger(mod = \"capsule_open\"))\n",
    "champion_button = tk.Button(main_window, text=\"챔피언 파편\", command=lambda : Scavenger(mod = \"champion_button\"))\n",
    "\n",
    "\n",
    "\n",
    "is_leaugeclient_processing()\n",
    "\n",
    "#main_window.after(0, lambda : is_leaugeclient_processing()) # 함수의 호출이 아닌 '함수'를 전달해야 함, thread가 있으니 이 코드 노쓸모\n",
    "\n",
    "\n",
    "\n",
    "\n",
    "\n",
    "\n",
    "\n",
    "main_window.mainloop()\n",
    "\n",
    "\n"
   ]
  },
  {
   "cell_type": "code",
   "execution_count": null,
   "metadata": {},
   "outputs": [],
   "source": [
    "main_window.after(2, is_leaugeclient_processing())"
   ]
  },
  {
   "cell_type": "code",
   "execution_count": 56,
   "metadata": {},
   "outputs": [],
   "source": [
    "\n"
   ]
  },
  {
   "cell_type": "code",
   "execution_count": 55,
   "metadata": {},
   "outputs": [
    {
     "name": "stdout",
     "output_type": "stream",
     "text": [
      "F\n"
     ]
    }
   ],
   "source": [
    "import tkinter as tk\n",
    "\n",
    "def show_label():\n",
    "    leagueclient.pack()\n",
    "\n",
    "    # is_leagueclient_processing 함수를 3초 후에 실행합니다.\n",
    "    root.after(3000, is_leaugeclient_processing)\n",
    "\n",
    "root = tk.Tk()\n",
    "\n",
    "# 레이블 생성 코드는 여기에 추가합니다.\n",
    "leagueclient = tk.Label(root, text=\"리그 오브 레전드 탐색 중.\")\n",
    "\n",
    "# show_label 함수를 호출하여 레이블을 표시합니다.\n",
    "#root.after(0, show_label)\n",
    "show_label()\n",
    "\n",
    "root.mainloop()\n"
   ]
  },
  {
   "cell_type": "code",
   "execution_count": 50,
   "metadata": {},
   "outputs": [
    {
     "name": "stdout",
     "output_type": "stream",
     "text": [
      "F\n"
     ]
    }
   ],
   "source": [
    "import tkinter as tk\n",
    "\n",
    "root = tk.Tk()\n",
    "\n",
    "# 레이블 생성 코드는 여기에 추가합니다.\n",
    "leagueclient = tk.Label(root, text=\"리그 오브 레전드 탐색 중.\")\n",
    "\n",
    "# show_label 함수를 호출하여 레이블을 표시합니다.\n",
    "#root.after(0, show_label)\n",
    "\n",
    "leagueclient.pack()\n",
    "\n",
    "\n",
    "\n",
    "root.after(10, leagueclient.config(text=str(is_leaugeclient_processing())))\n",
    "\n",
    "root.mainloop()\n",
    "\n"
   ]
  },
  {
   "cell_type": "code",
   "execution_count": null,
   "metadata": {},
   "outputs": [],
   "source": []
  },
  {
   "cell_type": "code",
   "execution_count": null,
   "metadata": {},
   "outputs": [],
   "source": [
    "if is_leaugeclient_processing():\n",
    "    label = tk.Label(main_window, text=\"리그 오브 레전드가 실행되었습니다.\")\n",
    "else:\n",
    "    label = tk.Label(main_window, text=\"리그 오브 레전드를 실행시켜 주십시오.\")\n",
    "\n",
    "label.pack()\n",
    "\n",
    "\n",
    "\n",
    "name = tk.StringVar()\n",
    "entry = tk.Entry(main_window, textvariable=name)\n",
    "entry.pack()"
   ]
  },
  {
   "cell_type": "code",
   "execution_count": null,
   "metadata": {},
   "outputs": [],
   "source": [
    "button = tk.Button(main_window, text=\"Greet\", command=greet)\n",
    "button.pack()\n",
    "\n",
    "\n",
    "\n",
    "\n",
    "\n",
    "\n",
    "def greet():\n",
    "    label.config(text=\"Fuck, \" + name.get() + \"!\")"
   ]
  },
  {
   "cell_type": "code",
   "execution_count": null,
   "metadata": {},
   "outputs": [],
   "source": [
    "progress_bar.start()"
   ]
  },
  {
   "cell_type": "code",
   "execution_count": null,
   "metadata": {},
   "outputs": [],
   "source": []
  },
  {
   "cell_type": "code",
   "execution_count": null,
   "metadata": {},
   "outputs": [],
   "source": []
  },
  {
   "cell_type": "code",
   "execution_count": null,
   "metadata": {},
   "outputs": [],
   "source": []
  },
  {
   "cell_type": "code",
   "execution_count": 9,
   "metadata": {},
   "outputs": [],
   "source": [
    "WINDOW_HEIGHT = int(os.getenv(\"MAIN_WINDOW_HEIGHT\"))\n",
    "WINDOW_WIDTH = int(os.getenv(\"MAIN_WINDOW_WIDTH\"))"
   ]
  },
  {
   "cell_type": "code",
   "execution_count": 10,
   "metadata": {},
   "outputs": [
    {
     "data": {
      "text/plain": [
       "''"
      ]
     },
     "execution_count": 10,
     "metadata": {},
     "output_type": "execute_result"
    }
   ],
   "source": [
    "main_window = tk.Tk()\n",
    "main_window.title(\"LEAGUE OF LEGENDS CAPTULE OPENER\")\n",
    "\n",
    "screen_width = main_window.winfo_screenwidth()\n",
    "screen_height = main_window.winfo_screenheight()\n",
    "\n",
    "delta_y = (screen_height - WINDOW_HEIGHT) // 2\n",
    "delta_x = (screen_width - WINDOW_WIDTH) // 2\n",
    "\n",
    "main_window.geometry(f\"{WINDOW_HEIGHT}x{WINDOW_WIDTH}+{delta_x}+{delta_y}\")"
   ]
  },
  {
   "cell_type": "code",
   "execution_count": 11,
   "metadata": {},
   "outputs": [],
   "source": [
    "def greet():\n",
    "    label.config(text=\"Fuck, \" + name.get() + \"!\")"
   ]
  },
  {
   "cell_type": "code",
   "execution_count": 12,
   "metadata": {},
   "outputs": [],
   "source": [
    "main_window.attributes('-topmost', True)  # Always on top\n",
    "main_window.attributes('-fullscreen', False)  # Not full screen\n",
    "main_window.state('normal')  # Normal window state\n",
    "\n",
    "# 위젯 추가\n",
    "label = tk.Label(main_window, text=\"Enter your name:\")\n",
    "label.pack()\n",
    "\n",
    "name = tk.StringVar()\n",
    "entry = tk.Entry(main_window, textvariable=name)\n",
    "entry.pack()\n",
    "\n",
    "button = tk.Button(main_window, text=\"Greet\", command=greet)\n",
    "button.pack()\n",
    "\n",
    "# 이벤트 루프 시작\n",
    "main_window.mainloop()"
   ]
  },
  {
   "cell_type": "code",
   "execution_count": null,
   "metadata": {},
   "outputs": [],
   "source": []
  },
  {
   "cell_type": "code",
   "execution_count": null,
   "metadata": {},
   "outputs": [],
   "source": []
  },
  {
   "cell_type": "code",
   "execution_count": null,
   "metadata": {},
   "outputs": [],
   "source": []
  },
  {
   "cell_type": "code",
   "execution_count": null,
   "metadata": {},
   "outputs": [],
   "source": []
  },
  {
   "cell_type": "code",
   "execution_count": null,
   "metadata": {},
   "outputs": [],
   "source": []
  },
  {
   "cell_type": "code",
   "execution_count": null,
   "metadata": {},
   "outputs": [],
   "source": []
  },
  {
   "cell_type": "code",
   "execution_count": 13,
   "metadata": {},
   "outputs": [
    {
     "data": {
      "text/plain": [
       "0"
      ]
     },
     "execution_count": 13,
     "metadata": {},
     "output_type": "execute_result"
    }
   ],
   "source": [
    "SS = os.getenv(\"SEX\")\n",
    "\n",
    "def sexsex():\n",
    "    def greet():\n",
    "        label.config(text=\"Fuck, \" + name.get() + \"!\")\n",
    "\n",
    "    # 윈도우 생성\n",
    "    root = tk.Tk()\n",
    "    root.title(SS)\n",
    "\n",
    "    # 윈도우 크기 설정\n",
    "    window_width = 300\n",
    "    window_height = 150\n",
    "\n",
    "    # 화면의 크기 가져오기\n",
    "    screen_width = root.winfo_screenwidth()\n",
    "    screen_height = root.winfo_screenheight()\n",
    "\n",
    "    # 윈도우를 화면의 정중앙에 위치시키기\n",
    "    x = (screen_width - window_width) // 2\n",
    "    y = (screen_height - window_height) // 2\n",
    "    root.geometry(f\"{window_width}x{window_height}+{x}+{y}\")\n",
    "\n",
    "    # GUI가 최소화되지 않도록 설정\n",
    "    root.attributes('-topmost', True)  # Always on top\n",
    "    root.attributes('-fullscreen', False)  # Not full screen\n",
    "    root.state('normal')  # Normal window state\n",
    "\n",
    "    # 위젯 추가\n",
    "    label = tk.Label(root, text=\"Enter your name:\")\n",
    "    label.pack()\n",
    "\n",
    "    name = tk.StringVar()\n",
    "    entry = tk.Entry(root, textvariable=name)\n",
    "    entry.pack()\n",
    "\n",
    "    button = tk.Button(root, text=\"Greet\", command=greet)\n",
    "    button.pack()\n",
    "\n",
    "    # 이벤트 루프 시작\n",
    "    root.mainloop()\n",
    "\n",
    "    return 0\n",
    "\n",
    "sexsex()\n"
   ]
  },
  {
   "cell_type": "code",
   "execution_count": null,
   "metadata": {},
   "outputs": [],
   "source": []
  },
  {
   "cell_type": "code",
   "execution_count": null,
   "metadata": {},
   "outputs": [],
   "source": []
  },
  {
   "cell_type": "code",
   "execution_count": 14,
   "metadata": {},
   "outputs": [
    {
     "name": "stdout",
     "output_type": "stream",
     "text": [
      "리그 오브 레전드가 실행 중입니다.\n"
     ]
    }
   ],
   "source": [
    "\n",
    "\n",
    "if is_lol_running():\n",
    "    print(\"리그 오브 레전드가 실행 중입니다.\")\n",
    "else:\n",
    "    print(\"리그 오브 레전드를 실행시켜주십시오.\")\n"
   ]
  },
  {
   "cell_type": "code",
   "execution_count": 15,
   "metadata": {},
   "outputs": [],
   "source": [
    "for process in psutil.process_iter():\n",
    "    if process.name() == 'LeagueClient.exe':\n",
    "        print('sex')\n",
    "        break"
   ]
  },
  {
   "cell_type": "code",
   "execution_count": null,
   "metadata": {},
   "outputs": [
    {
     "name": "stdout",
     "output_type": "stream",
     "text": [
      "{'pid': 0, 'name': 'System Idle Process', 'username': 'NT AUTHORITY\\\\SYSTEM'}\n",
      "{'pid': 4, 'name': 'System', 'username': 'NT AUTHORITY\\\\SYSTEM'}\n",
      "{'pid': 172, 'name': '', 'username': None}\n",
      "{'pid': 212, 'name': 'Registry', 'username': None}\n",
      "{'pid': 780, 'name': 'smss.exe', 'username': None}\n",
      "{'pid': 912, 'name': 'svchost.exe', 'username': None}\n",
      "{'pid': 1164, 'name': 'csrss.exe', 'username': None}\n",
      "{'pid': 1316, 'name': 'wininit.exe', 'username': None}\n",
      "{'pid': 1336, 'name': 'csrss.exe', 'username': None}\n",
      "{'pid': 1388, 'name': 'services.exe', 'username': None}\n",
      "{'pid': 1400, 'name': 'LsaIso.exe', 'username': None}\n",
      "{'pid': 1416, 'name': 'lsass.exe', 'username': None}\n",
      "{'pid': 1544, 'name': 'svchost.exe', 'username': None}\n",
      "{'pid': 1572, 'name': 'fontdrvhost.exe', 'username': None}\n",
      "{'pid': 1624, 'name': 'WUDFHost.exe', 'username': None}\n",
      "{'pid': 1684, 'name': 'svchost.exe', 'username': None}\n",
      "{'pid': 1700, 'name': 'chrome.exe', 'username': 'RUST-99\\\\crypt'}\n",
      "{'pid': 1728, 'name': 'svchost.exe', 'username': None}\n",
      "{'pid': 1764, 'name': 'WUDFHost.exe', 'username': None}\n",
      "{'pid': 1828, 'name': 'winlogon.exe', 'username': None}\n",
      "{'pid': 1880, 'name': 'fontdrvhost.exe', 'username': None}\n",
      "{'pid': 1968, 'name': 'svchost.exe', 'username': None}\n",
      "{'pid': 2012, 'name': 'svchost.exe', 'username': None}\n",
      "{'pid': 2020, 'name': 'svchost.exe', 'username': None}\n",
      "{'pid': 2028, 'name': 'chrome.exe', 'username': 'RUST-99\\\\crypt'}\n",
      "{'pid': 2040, 'name': 'svchost.exe', 'username': None}\n",
      "{'pid': 2052, 'name': 'svchost.exe', 'username': None}\n",
      "{'pid': 2064, 'name': 'dwm.exe', 'username': None}\n",
      "{'pid': 2124, 'name': 'svchost.exe', 'username': None}\n",
      "{'pid': 2132, 'name': 'svchost.exe', 'username': None}\n",
      "{'pid': 2140, 'name': 'svchost.exe', 'username': None}\n",
      "{'pid': 2148, 'name': 'svchost.exe', 'username': None}\n",
      "{'pid': 2216, 'name': 'Code.exe', 'username': 'RUST-99\\\\crypt'}\n",
      "{'pid': 2288, 'name': 'svchost.exe', 'username': None}\n",
      "{'pid': 2352, 'name': 'svchost.exe', 'username': None}\n",
      "{'pid': 2364, 'name': 'svchost.exe', 'username': None}\n",
      "{'pid': 2396, 'name': 'svchost.exe', 'username': None}\n",
      "{'pid': 2464, 'name': 'sihost.exe', 'username': 'RUST-99\\\\crypt'}\n",
      "{'pid': 2556, 'name': 'svchost.exe', 'username': None}\n",
      "{'pid': 2580, 'name': 'svchost.exe', 'username': None}\n",
      "{'pid': 2728, 'name': 'svchost.exe', 'username': None}\n",
      "{'pid': 2760, 'name': 'QSHelper.exe', 'username': 'RUST-99\\\\crypt'}\n",
      "{'pid': 2892, 'name': 'svchost.exe', 'username': None}\n",
      "{'pid': 2964, 'name': 'svchost.exe', 'username': None}\n",
      "{'pid': 3020, 'name': 'svchost.exe', 'username': None}\n",
      "{'pid': 3048, 'name': 'AMDRSSrcExt.exe', 'username': 'RUST-99\\\\crypt'}\n",
      "{'pid': 3052, 'name': 'chrome.exe', 'username': 'RUST-99\\\\crypt'}\n",
      "{'pid': 3076, 'name': 'svchost.exe', 'username': None}\n",
      "{'pid': 3164, 'name': 'SystemSettings.exe', 'username': 'RUST-99\\\\crypt'}\n",
      "{'pid': 3172, 'name': 'svchost.exe', 'username': None}\n",
      "{'pid': 3240, 'name': 'chrome.exe', 'username': 'RUST-99\\\\crypt'}\n",
      "{'pid': 3320, 'name': 'svchost.exe', 'username': None}\n",
      "{'pid': 3344, 'name': 'svchost.exe', 'username': None}\n",
      "{'pid': 3368, 'name': 'svchost.exe', 'username': None}\n",
      "{'pid': 3440, 'name': 'svchost.exe', 'username': None}\n",
      "{'pid': 3520, 'name': 'svchost.exe', 'username': None}\n",
      "{'pid': 3548, 'name': 'WmiPrvSE.exe', 'username': None}\n",
      "{'pid': 3556, 'name': 'NVDisplay.Container.exe', 'username': None}\n",
      "{'pid': 3592, 'name': 'svchost.exe', 'username': None}\n",
      "{'pid': 3600, 'name': 'amdfendrsr.exe', 'username': None}\n",
      "{'pid': 3608, 'name': 'atiesrxx.exe', 'username': None}\n",
      "{'pid': 3676, 'name': 'atieclxx.exe', 'username': None}\n",
      "{'pid': 3732, 'name': 'WUDFHost.exe', 'username': None}\n",
      "{'pid': 3824, 'name': 'UserOOBEBroker.exe', 'username': 'RUST-99\\\\crypt'}\n",
      "{'pid': 3832, 'name': 'NVDisplay.Container.exe', 'username': None}\n",
      "{'pid': 3860, 'name': 'svchost.exe', 'username': None}\n",
      "{'pid': 3924, 'name': 'svchost.exe', 'username': None}\n",
      "{'pid': 4052, 'name': 'WmiPrvSE.exe', 'username': None}\n",
      "{'pid': 4068, 'name': 'nahimicNotifSys.exe', 'username': 'RUST-99\\\\crypt'}\n",
      "{'pid': 4148, 'name': 'svchost.exe', 'username': None}\n",
      "{'pid': 4156, 'name': 'svchost.exe', 'username': None}\n",
      "{'pid': 4172, 'name': 'dllhost.exe', 'username': 'RUST-99\\\\crypt'}\n",
      "{'pid': 4204, 'name': 'MemCompression', 'username': None}\n",
      "{'pid': 4240, 'name': 'XboxPcAppFT.exe', 'username': 'RUST-99\\\\crypt'}\n",
      "{'pid': 4336, 'name': 'RuntimeBroker.exe', 'username': 'RUST-99\\\\crypt'}\n",
      "{'pid': 4388, 'name': 'LeagueClientUxRender.exe', 'username': 'RUST-99\\\\crypt'}\n",
      "{'pid': 4468, 'name': 'svchost.exe', 'username': None}\n",
      "{'pid': 4528, 'name': 'svchost.exe', 'username': None}\n",
      "{'pid': 4552, 'name': 'svchost.exe', 'username': None}\n",
      "{'pid': 4624, 'name': 'svchost.exe', 'username': None}\n",
      "{'pid': 4636, 'name': 'RuntimeBroker.exe', 'username': 'RUST-99\\\\crypt'}\n",
      "{'pid': 4696, 'name': 'svchost.exe', 'username': None}\n",
      "{'pid': 4876, 'name': 'svchost.exe', 'username': None}\n",
      "{'pid': 4884, 'name': 'svchost.exe', 'username': 'RUST-99\\\\crypt'}\n",
      "{'pid': 4920, 'name': 'svchost.exe', 'username': None}\n",
      "{'pid': 4928, 'name': 'svchost.exe', 'username': None}\n",
      "{'pid': 5056, 'name': 'svchost.exe', 'username': None}\n",
      "{'pid': 5076, 'name': 'chrome.exe', 'username': 'RUST-99\\\\crypt'}\n",
      "{'pid': 5148, 'name': 'svchost.exe', 'username': 'RUST-99\\\\crypt'}\n",
      "{'pid': 5156, 'name': 'svchost.exe', 'username': 'RUST-99\\\\crypt'}\n",
      "{'pid': 5224, 'name': 'svchost.exe', 'username': 'RUST-99\\\\crypt'}\n",
      "{'pid': 5240, 'name': 'chrome.exe', 'username': 'RUST-99\\\\crypt'}\n",
      "{'pid': 5316, 'name': 'explorer.exe', 'username': 'RUST-99\\\\crypt'}\n",
      "{'pid': 5336, 'name': 'svchost.exe', 'username': 'RUST-99\\\\crypt'}\n",
      "{'pid': 5412, 'name': 'taskhostw.exe', 'username': 'RUST-99\\\\crypt'}\n",
      "{'pid': 5504, 'name': 'svchost.exe', 'username': None}\n",
      "{'pid': 5584, 'name': 'Code.exe', 'username': 'RUST-99\\\\crypt'}\n",
      "{'pid': 5596, 'name': 'svchost.exe', 'username': None}\n",
      "{'pid': 5728, 'name': 'logi_lamparray_service.exe', 'username': None}\n",
      "{'pid': 5736, 'name': 'svchost.exe', 'username': None}\n",
      "{'pid': 5808, 'name': 'bash.exe', 'username': 'RUST-99\\\\crypt'}\n",
      "{'pid': 5868, 'name': 'svchost.exe', 'username': None}\n",
      "{'pid': 6232, 'name': 'LenovoUtilityService.exe', 'username': None}\n",
      "{'pid': 6268, 'name': 'svchost.exe', 'username': None}\n",
      "{'pid': 6276, 'name': 'svchost.exe', 'username': 'RUST-99\\\\crypt'}\n",
      "{'pid': 6304, 'name': 'lghub_updater.exe', 'username': None}\n",
      "{'pid': 6372, 'name': 'spoolsv.exe', 'username': None}\n",
      "{'pid': 6512, 'name': 'svchost.exe', 'username': None}\n",
      "{'pid': 6520, 'name': 'innorixes.exe', 'username': None}\n",
      "{'pid': 6528, 'name': 'svchost.exe', 'username': 'RUST-99\\\\crypt'}\n",
      "{'pid': 6608, 'name': 'MagicLine4NXServices.exe', 'username': None}\n",
      "{'pid': 6620, 'name': 'chrome.exe', 'username': 'RUST-99\\\\crypt'}\n",
      "{'pid': 6684, 'name': 'Lenovo.Modern.ImController.exe', 'username': None}\n",
      "{'pid': 6700, 'name': 'msedgewebview2.exe', 'username': 'RUST-99\\\\crypt'}\n",
      "{'pid': 6728, 'name': 'svchost.exe', 'username': None}\n",
      "{'pid': 6736, 'name': 'svchost.exe', 'username': None}\n",
      "{'pid': 6860, 'name': 'svchost.exe', 'username': None}\n",
      "{'pid': 6920, 'name': 'Code.exe', 'username': 'RUST-99\\\\crypt'}\n",
      "{'pid': 6976, 'name': 'svchost.exe', 'username': None}\n",
      "{'pid': 6984, 'name': 'svchost.exe', 'username': None}\n",
      "{'pid': 6992, 'name': 'svchost.exe', 'username': None}\n",
      "{'pid': 7016, 'name': 'svchost.exe', 'username': None}\n",
      "{'pid': 7028, 'name': 'f_logsvc.exe', 'username': None}\n",
      "{'pid': 7036, 'name': 'f_LPS.exe', 'username': None}\n",
      "{'pid': 7064, 'name': 'IniClientSvc_x64.exe', 'username': None}\n",
      "{'pid': 7080, 'name': 'AnySign4PCLauncher.exe', 'username': None}\n",
      "{'pid': 7096, 'name': 'msedge.exe', 'username': 'RUST-99\\\\crypt'}\n",
      "{'pid': 7100, 'name': 'ObCrossEXService.exe', 'username': None}\n",
      "{'pid': 7124, 'name': 'HncUpdateService.exe', 'username': None}\n",
      "{'pid': 7136, 'name': 'svchost.exe', 'username': None}\n",
      "{'pid': 7156, 'name': 'AggregatorHost.exe', 'username': None}\n",
      "{'pid': 7160, 'name': 'OfficeClickToRun.exe', 'username': None}\n",
      "{'pid': 7180, 'name': 'innorixem.exe', 'username': None}\n",
      "{'pid': 7204, 'name': 'chrome.exe', 'username': 'RUST-99\\\\crypt'}\n",
      "{'pid': 7296, 'name': 'chrome.exe', 'username': 'RUST-99\\\\crypt'}\n",
      "{'pid': 7316, 'name': 'MpDefenderCoreService.exe', 'username': None}\n",
      "{'pid': 7344, 'name': 'NahimicService.exe', 'username': None}\n",
      "{'pid': 7480, 'name': 'nvcontainer.exe', 'username': None}\n",
      "{'pid': 7552, 'name': 'RtkAudUService64.exe', 'username': None}\n",
      "{'pid': 7560, 'name': 'RtkBtManServ.exe', 'username': None}\n",
      "{'pid': 7584, 'name': 'sqlwriter.exe', 'username': None}\n",
      "{'pid': 7592, 'name': 'ASDSvc.exe', 'username': None}\n",
      "{'pid': 7600, 'name': 'svchost.exe', 'username': None}\n",
      "{'pid': 7656, 'name': 'UDClientService.exe', 'username': None}\n",
      "{'pid': 7664, 'name': 'vmware-authd.exe', 'username': None}\n",
      "{'pid': 7688, 'name': 'vmnetdhcp.exe', 'username': None}\n",
      "{'pid': 7696, 'name': 'INISAFEAdminUtil.exe', 'username': 'RUST-99\\\\crypt'}\n",
      "{'pid': 7724, 'name': 'vmware-usbarbitrator64.exe', 'username': None}\n",
      "{'pid': 7752, 'name': 'vmnat.exe', 'username': None}\n",
      "{'pid': 7772, 'name': 'MsMpEng.exe', 'username': None}\n",
      "{'pid': 7780, 'name': 'svchost.exe', 'username': None}\n",
      "{'pid': 7792, 'name': 'wpmsvc.exe', 'username': None}\n",
      "{'pid': 7812, 'name': 'chrome.exe', 'username': 'RUST-99\\\\crypt'}\n",
      "{'pid': 7828, 'name': 'CrossEXService.exe', 'username': 'RUST-99\\\\crypt'}\n",
      "{'pid': 7856, 'name': 'INISAFECrossWebEXSvc.exe', 'username': 'RUST-99\\\\crypt'}\n",
      "{'pid': 7892, 'name': 'svchost.exe', 'username': None}\n",
      "{'pid': 7928, 'name': 'OverwolfBrowser.exe', 'username': 'RUST-99\\\\crypt'}\n",
      "{'pid': 8048, 'name': 'svchost.exe', 'username': None}\n",
      "{'pid': 8084, 'name': 'conhost.exe', 'username': 'RUST-99\\\\crypt'}\n",
      "{'pid': 8096, 'name': 'chrome.exe', 'username': 'RUST-99\\\\crypt'}\n",
      "{'pid': 8236, 'name': 'Locator.exe', 'username': None}\n",
      "{'pid': 8260, 'name': 'Nahimic3.exe', 'username': 'RUST-99\\\\crypt'}\n",
      "{'pid': 8352, 'name': 'dllhost.exe', 'username': 'RUST-99\\\\crypt'}\n",
      "{'pid': 8440, 'name': 'chrome.exe', 'username': 'RUST-99\\\\crypt'}\n",
      "{'pid': 8484, 'name': 'svchost.exe', 'username': None}\n",
      "{'pid': 8860, 'name': 'msedgewebview2.exe', 'username': 'RUST-99\\\\crypt'}\n",
      "{'pid': 9032, 'name': 'chrome.exe', 'username': 'RUST-99\\\\crypt'}\n",
      "{'pid': 9132, 'name': 'svchost.exe', 'username': None}\n",
      "{'pid': 9432, 'name': 'ShellExperienceHost.exe', 'username': 'RUST-99\\\\crypt'}\n",
      "{'pid': 9444, 'name': 'msedgewebview2.exe', 'username': 'RUST-99\\\\crypt'}\n",
      "{'pid': 9652, 'name': 'RiotClientServices.exe', 'username': 'RUST-99\\\\crypt'}\n",
      "{'pid': 9884, 'name': 'OverwolfBrowser.exe', 'username': 'RUST-99\\\\crypt'}\n",
      "{'pid': 10072, 'name': 'MagicLine4NX.exe', 'username': 'RUST-99\\\\crypt'}\n",
      "{'pid': 10180, 'name': 'chrome.exe', 'username': 'RUST-99\\\\crypt'}\n",
      "{'pid': 10264, 'name': 'rundll32.exe', 'username': None}\n",
      "{'pid': 10340, 'name': 'msedge.exe', 'username': 'RUST-99\\\\crypt'}\n",
      "{'pid': 10464, 'name': 'svchost.exe', 'username': None}\n",
      "{'pid': 10572, 'name': 'msedgewebview2.exe', 'username': 'RUST-99\\\\crypt'}\n",
      "{'pid': 11024, 'name': 'SearchIndexer.exe', 'username': None}\n",
      "{'pid': 11048, 'name': 'Code.exe', 'username': 'RUST-99\\\\crypt'}\n",
      "{'pid': 11152, 'name': 'innorixet.exe', 'username': 'RUST-99\\\\crypt'}\n",
      "{'pid': 11332, 'name': 'StartMenuExperienceHost.exe', 'username': 'RUST-99\\\\crypt'}\n",
      "{'pid': 11472, 'name': 'LenovoVantage-(GenericMessagingAddin).exe', 'username': 'RUST-99\\\\crypt'}\n",
      "{'pid': 11484, 'name': 'chrome.exe', 'username': 'RUST-99\\\\crypt'}\n",
      "{'pid': 11612, 'name': 'nvcontainer.exe', 'username': 'RUST-99\\\\crypt'}\n",
      "{'pid': 11636, 'name': 'python.exe', 'username': 'RUST-99\\\\crypt'}\n",
      "{'pid': 11640, 'name': 'nvcontainer.exe', 'username': 'RUST-99\\\\crypt'}\n",
      "{'pid': 11744, 'name': 'msedge.exe', 'username': 'RUST-99\\\\crypt'}\n",
      "{'pid': 11824, 'name': 'FnHotkeyUtility.exe', 'username': 'RUST-99\\\\crypt'}\n",
      "{'pid': 12096, 'name': 'WindowsTerminal.exe', 'username': 'RUST-99\\\\crypt'}\n",
      "{'pid': 12264, 'name': 'SearchHost.exe', 'username': 'RUST-99\\\\crypt'}\n",
      "{'pid': 12364, 'name': 'Widgets.exe', 'username': 'RUST-99\\\\crypt'}\n",
      "{'pid': 12412, 'name': 'RuntimeBroker.exe', 'username': 'RUST-99\\\\crypt'}\n",
      "{'pid': 12480, 'name': 'svchost.exe', 'username': None}\n",
      "{'pid': 12540, 'name': 'chrome.exe', 'username': 'RUST-99\\\\crypt'}\n",
      "{'pid': 12592, 'name': 'RuntimeBroker.exe', 'username': 'RUST-99\\\\crypt'}\n",
      "{'pid': 12744, 'name': 'SecurityHealthService.exe', 'username': None}\n",
      "{'pid': 12768, 'name': 'nvsphelper64.exe', 'username': 'RUST-99\\\\crypt'}\n",
      "{'pid': 12820, 'name': 'svchost.exe', 'username': 'RUST-99\\\\crypt'}\n",
      "{'pid': 12824, 'name': 'WidgetService.exe', 'username': 'RUST-99\\\\crypt'}\n",
      "{'pid': 12948, 'name': 'FileCoAuth.exe', 'username': 'RUST-99\\\\crypt'}\n",
      "{'pid': 12956, 'name': 'svchost.exe', 'username': 'RUST-99\\\\crypt'}\n",
      "{'pid': 13616, 'name': 'dllhost.exe', 'username': 'RUST-99\\\\crypt'}\n",
      "{'pid': 13640, 'name': 'chrome.exe', 'username': 'RUST-99\\\\crypt'}\n",
      "{'pid': 13916, 'name': 'chrome.exe', 'username': 'RUST-99\\\\crypt'}\n",
      "{'pid': 14004, 'name': 'unsecapp.exe', 'username': None}\n",
      "{'pid': 14056, 'name': 'WmiApSrv.exe', 'username': None}\n",
      "{'pid': 14232, 'name': 'HncUpdateTray.exe', 'username': 'RUST-99\\\\crypt'}\n",
      "{'pid': 14384, 'name': 'ctfmon.exe', 'username': 'RUST-99\\\\crypt'}\n",
      "{'pid': 14492, 'name': 'NVIDIA Web Helper.exe', 'username': 'RUST-99\\\\crypt'}\n",
      "{'pid': 14520, 'name': 'backgroundTaskHost.exe', 'username': 'RUST-99\\\\crypt'}\n",
      "{'pid': 14628, 'name': 'chrome.exe', 'username': 'RUST-99\\\\crypt'}\n",
      "{'pid': 14684, 'name': 'LockApp.exe', 'username': 'RUST-99\\\\crypt'}\n",
      "{'pid': 14956, 'name': 'chrome.exe', 'username': 'RUST-99\\\\crypt'}\n",
      "{'pid': 14988, 'name': 'conhost.exe', 'username': 'RUST-99\\\\crypt'}\n",
      "{'pid': 14996, 'name': 'svchost.exe', 'username': None}\n",
      "{'pid': 15036, 'name': 'bash.exe', 'username': 'RUST-99\\\\crypt'}\n",
      "{'pid': 15136, 'name': 'RuntimeBroker.exe', 'username': 'RUST-99\\\\crypt'}\n",
      "{'pid': 15368, 'name': 'unsecapp.exe', 'username': 'RUST-99\\\\crypt'}\n",
      "{'pid': 15408, 'name': 'chrome.exe', 'username': 'RUST-99\\\\crypt'}\n",
      "{'pid': 15472, 'name': 'chrome.exe', 'username': 'RUST-99\\\\crypt'}\n",
      "{'pid': 15600, 'name': 'powershell.exe', 'username': 'RUST-99\\\\crypt'}\n",
      "{'pid': 15616, 'name': 'svchost.exe', 'username': None}\n",
      "{'pid': 15740, 'name': 'LocationNotificationWindows.exe', 'username': 'RUST-99\\\\crypt'}\n",
      "{'pid': 15840, 'name': 'lghub_agent.exe', 'username': 'RUST-99\\\\crypt'}\n",
      "{'pid': 15880, 'name': 'FnHotkeyCapsLKNumLK.exe', 'username': 'RUST-99\\\\crypt'}\n",
      "{'pid': 15968, 'name': 'StSess.exe', 'username': 'RUST-99\\\\crypt'}\n",
      "{'pid': 16072, 'name': 'KakaoTalk.exe', 'username': 'RUST-99\\\\crypt'}\n",
      "{'pid': 16152, 'name': 'veraport-x64.exe', 'username': 'RUST-99\\\\crypt'}\n",
      "{'pid': 16292, 'name': 'PhoneExperienceHost.exe', 'username': 'RUST-99\\\\crypt'}\n",
      "{'pid': 16308, 'name': 'svchost.exe', 'username': None}\n",
      "{'pid': 16464, 'name': 'NisSrv.exe', 'username': None}\n",
      "{'pid': 16532, 'name': 'chrome.exe', 'username': 'RUST-99\\\\crypt'}\n",
      "{'pid': 16588, 'name': 'chrome.exe', 'username': 'RUST-99\\\\crypt'}\n",
      "{'pid': 16732, 'name': 'XRiteColorAssistant.exe', 'username': 'RUST-99\\\\crypt'}\n",
      "{'pid': 16900, 'name': 'chrome.exe', 'username': 'RUST-99\\\\crypt'}\n",
      "{'pid': 16924, 'name': 'lghub_system_tray.exe', 'username': 'RUST-99\\\\crypt'}\n",
      "{'pid': 17012, 'name': 'RuntimeBroker.exe', 'username': 'RUST-99\\\\crypt'}\n",
      "{'pid': 17036, 'name': 'svchost.exe', 'username': None}\n",
      "{'pid': 17056, 'name': 'ApplicationFrameHost.exe', 'username': 'RUST-99\\\\crypt'}\n",
      "{'pid': 17168, 'name': 'OpenConsole.exe', 'username': 'RUST-99\\\\crypt'}\n",
      "{'pid': 17196, 'name': 'powershell.exe', 'username': 'RUST-99\\\\crypt'}\n",
      "{'pid': 17500, 'name': 'msedgewebview2.exe', 'username': 'RUST-99\\\\crypt'}\n",
      "{'pid': 17608, 'name': 'RuntimeBroker.exe', 'username': 'RUST-99\\\\crypt'}\n",
      "{'pid': 17640, 'name': 'msedgewebview2.exe', 'username': 'RUST-99\\\\crypt'}\n",
      "{'pid': 17684, 'name': 'unsecapp.exe', 'username': 'RUST-99\\\\crypt'}\n",
      "{'pid': 17796, 'name': 'rundll32.exe', 'username': 'RUST-99\\\\crypt'}\n",
      "{'pid': 17924, 'name': 'rundll32.exe', 'username': 'RUST-99\\\\crypt'}\n",
      "{'pid': 17972, 'name': 'fph.exe', 'username': None}\n",
      "{'pid': 17992, 'name': 'fph.exe', 'username': None}\n",
      "{'pid': 18076, 'name': 'StSess32.exe', 'username': 'RUST-99\\\\crypt'}\n",
      "{'pid': 18156, 'name': 'rundll32.exe', 'username': 'RUST-99\\\\crypt'}\n",
      "{'pid': 18244, 'name': 'chrome.exe', 'username': 'RUST-99\\\\crypt'}\n",
      "{'pid': 18384, 'name': 'rundll32.exe', 'username': 'RUST-99\\\\crypt'}\n",
      "{'pid': 18416, 'name': 'TextInputHost.exe', 'username': 'RUST-99\\\\crypt'}\n",
      "{'pid': 18468, 'name': 'chrome.exe', 'username': 'RUST-99\\\\crypt'}\n",
      "{'pid': 18532, 'name': 'fclient.exe', 'username': 'RUST-99\\\\crypt'}\n",
      "{'pid': 18572, 'name': 'fclient.exe', 'username': 'RUST-99\\\\crypt'}\n",
      "{'pid': 18764, 'name': 'msedgewebview2.exe', 'username': 'RUST-99\\\\crypt'}\n",
      "{'pid': 19144, 'name': 'SecurityHealthSystray.exe', 'username': 'RUST-99\\\\crypt'}\n",
      "{'pid': 19332, 'name': 'RtkAudUService64.exe', 'username': 'RUST-99\\\\crypt'}\n",
      "{'pid': 19352, 'name': 'NVIDIA Share.exe', 'username': 'RUST-99\\\\crypt'}\n",
      "{'pid': 19540, 'name': 'Code.exe', 'username': 'RUST-99\\\\crypt'}\n",
      "{'pid': 19620, 'name': 'picpick.exe', 'username': 'RUST-99\\\\crypt'}\n",
      "{'pid': 19696, 'name': 'NVIDIA Share.exe', 'username': 'RUST-99\\\\crypt'}\n",
      "{'pid': 20184, 'name': 'chrome.exe', 'username': 'RUST-99\\\\crypt'}\n",
      "{'pid': 20212, 'name': 'NVIDIA Share.exe', 'username': 'RUST-99\\\\crypt'}\n",
      "{'pid': 20416, 'name': 'vgtray.exe', 'username': 'RUST-99\\\\crypt'}\n",
      "{'pid': 20472, 'name': 'OneDrive.exe', 'username': 'RUST-99\\\\crypt'}\n",
      "{'pid': 20492, 'name': 'AnySign4PC.exe', 'username': 'RUST-99\\\\crypt'}\n",
      "{'pid': 20588, 'name': 'chrome.exe', 'username': 'RUST-99\\\\crypt'}\n",
      "{'pid': 20676, 'name': 'Code.exe', 'username': 'RUST-99\\\\crypt'}\n",
      "{'pid': 20728, 'name': 'chrome.exe', 'username': 'RUST-99\\\\crypt'}\n",
      "{'pid': 20900, 'name': 'msedgewebview2.exe', 'username': 'RUST-99\\\\crypt'}\n",
      "{'pid': 20940, 'name': 'chrome.exe', 'username': 'RUST-99\\\\crypt'}\n",
      "{'pid': 20988, 'name': 'chrome.exe', 'username': 'RUST-99\\\\crypt'}\n",
      "{'pid': 21016, 'name': 'chrome.exe', 'username': 'RUST-99\\\\crypt'}\n",
      "{'pid': 21040, 'name': 'python.exe', 'username': 'RUST-99\\\\crypt'}\n",
      "{'pid': 21152, 'name': 'svchost.exe', 'username': None}\n",
      "{'pid': 21456, 'name': 'LeagueClientUxRender.exe', 'username': 'RUST-99\\\\crypt'}\n",
      "{'pid': 21472, 'name': 'AMDRSServ.exe', 'username': 'RUST-99\\\\crypt'}\n",
      "{'pid': 21624, 'name': 'msedgewebview2.exe', 'username': 'RUST-99\\\\crypt'}\n",
      "{'pid': 21660, 'name': 'conhost.exe', 'username': 'RUST-99\\\\crypt'}\n",
      "{'pid': 21764, 'name': 'msedgewebview2.exe', 'username': 'RUST-99\\\\crypt'}\n",
      "{'pid': 21816, 'name': 'chrome.exe', 'username': 'RUST-99\\\\crypt'}\n",
      "{'pid': 21824, 'name': 'LeagueClientUx.exe', 'username': 'RUST-99\\\\crypt'}\n",
      "{'pid': 22000, 'name': 'chrome.exe', 'username': 'RUST-99\\\\crypt'}\n",
      "{'pid': 22028, 'name': 'chrome.exe', 'username': 'RUST-99\\\\crypt'}\n",
      "{'pid': 22136, 'name': 'Overwolf.exe', 'username': 'RUST-99\\\\crypt'}\n",
      "{'pid': 22168, 'name': 'backgroundTaskHost.exe', 'username': 'RUST-99\\\\crypt'}\n",
      "{'pid': 22184, 'name': 'svchost.exe', 'username': None}\n",
      "{'pid': 22284, 'name': 'Code.exe', 'username': 'RUST-99\\\\crypt'}\n",
      "{'pid': 22320, 'name': 'chrome.exe', 'username': 'RUST-99\\\\crypt'}\n",
      "{'pid': 22400, 'name': 'XboxGameBarSpotify.exe', 'username': 'RUST-99\\\\crypt'}\n",
      "{'pid': 22404, 'name': 'Taskmgr.exe', 'username': 'RUST-99\\\\crypt'}\n",
      "{'pid': 22424, 'name': 'chrome.exe', 'username': 'RUST-99\\\\crypt'}\n",
      "{'pid': 22464, 'name': 'RuntimeBroker.exe', 'username': 'RUST-99\\\\crypt'}\n",
      "{'pid': 22568, 'name': 'chrome.exe', 'username': 'RUST-99\\\\crypt'}\n",
      "{'pid': 22604, 'name': 'chrome.exe', 'username': 'RUST-99\\\\crypt'}\n",
      "{'pid': 22644, 'name': 'chrome.exe', 'username': 'RUST-99\\\\crypt'}\n",
      "{'pid': 22812, 'name': 'chrome.exe', 'username': 'RUST-99\\\\crypt'}\n",
      "{'pid': 22876, 'name': 'svchost.exe', 'username': None}\n",
      "{'pid': 22884, 'name': 'Code.exe', 'username': 'RUST-99\\\\crypt'}\n",
      "{'pid': 22920, 'name': 'Code.exe', 'username': 'RUST-99\\\\crypt'}\n",
      "{'pid': 23140, 'name': 'chrome.exe', 'username': 'RUST-99\\\\crypt'}\n",
      "{'pid': 23308, 'name': 'chrome.exe', 'username': 'RUST-99\\\\crypt'}\n",
      "{'pid': 23572, 'name': 'chrome.exe', 'username': 'RUST-99\\\\crypt'}\n",
      "{'pid': 23688, 'name': 'chrome.exe', 'username': 'RUST-99\\\\crypt'}\n",
      "{'pid': 24256, 'name': 'msedgewebview2.exe', 'username': 'RUST-99\\\\crypt'}\n",
      "{'pid': 24260, 'name': 'chrome.exe', 'username': 'RUST-99\\\\crypt'}\n",
      "{'pid': 24688, 'name': 'chrome.exe', 'username': 'RUST-99\\\\crypt'}\n",
      "{'pid': 24764, 'name': 'msedge.exe', 'username': 'RUST-99\\\\crypt'}\n",
      "{'pid': 24792, 'name': 'SystemSettingsBroker.exe', 'username': 'RUST-99\\\\crypt'}\n",
      "{'pid': 24880, 'name': 'msedgewebview2.exe', 'username': 'RUST-99\\\\crypt'}\n",
      "{'pid': 24992, 'name': 'LeagueClientUxRender.exe', 'username': 'RUST-99\\\\crypt'}\n",
      "{'pid': 25164, 'name': 'chrome.exe', 'username': 'RUST-99\\\\crypt'}\n",
      "{'pid': 25216, 'name': 'GameBarPresenceWriter.exe', 'username': 'RUST-99\\\\crypt'}\n",
      "{'pid': 25252, 'name': 'OverwolfBrowser.exe', 'username': 'RUST-99\\\\crypt'}\n",
      "{'pid': 25680, 'name': 'chrome.exe', 'username': 'RUST-99\\\\crypt'}\n",
      "{'pid': 26124, 'name': 'chrome.exe', 'username': 'RUST-99\\\\crypt'}\n",
      "{'pid': 26248, 'name': 'Code.exe', 'username': 'RUST-99\\\\crypt'}\n",
      "{'pid': 26276, 'name': 'chrome.exe', 'username': 'RUST-99\\\\crypt'}\n",
      "{'pid': 26300, 'name': 'LenovoVantage-(DeviceSettingsSystemAddin).exe', 'username': None}\n",
      "{'pid': 26472, 'name': 'Code.exe', 'username': 'RUST-99\\\\crypt'}\n",
      "{'pid': 26504, 'name': 'conhost.exe', 'username': 'RUST-99\\\\crypt'}\n",
      "{'pid': 26636, 'name': 'chrome.exe', 'username': 'RUST-99\\\\crypt'}\n",
      "{'pid': 26656, 'name': 'svchost.exe', 'username': None}\n",
      "{'pid': 26708, 'name': 'chrome.exe', 'username': 'RUST-99\\\\crypt'}\n",
      "{'pid': 26844, 'name': 'OverwolfBrowser.exe', 'username': 'RUST-99\\\\crypt'}\n",
      "{'pid': 26872, 'name': 'conhost.exe', 'username': 'RUST-99\\\\crypt'}\n",
      "{'pid': 26912, 'name': 'LeagueClientUxRender.exe', 'username': 'RUST-99\\\\crypt'}\n",
      "{'pid': 26936, 'name': 'chrome.exe', 'username': 'RUST-99\\\\crypt'}\n",
      "{'pid': 27020, 'name': 'python.exe', 'username': 'RUST-99\\\\crypt'}\n",
      "{'pid': 27172, 'name': 'python.exe', 'username': 'RUST-99\\\\crypt'}\n",
      "{'pid': 27192, 'name': 'chrome.exe', 'username': 'RUST-99\\\\crypt'}\n",
      "{'pid': 27364, 'name': 'RuntimeBroker.exe', 'username': 'RUST-99\\\\crypt'}\n",
      "{'pid': 27568, 'name': 'chrome.exe', 'username': 'RUST-99\\\\crypt'}\n",
      "{'pid': 27752, 'name': 'Code.exe', 'username': 'RUST-99\\\\crypt'}\n",
      "{'pid': 27904, 'name': 'chrome.exe', 'username': 'RUST-99\\\\crypt'}\n",
      "{'pid': 27920, 'name': 'msedge.exe', 'username': 'RUST-99\\\\crypt'}\n",
      "{'pid': 27984, 'name': 'msedgewebview2.exe', 'username': 'RUST-99\\\\crypt'}\n",
      "{'pid': 28520, 'name': 'conhost.exe', 'username': 'RUST-99\\\\crypt'}\n",
      "{'pid': 28724, 'name': 'conhost.exe', 'username': 'RUST-99\\\\crypt'}\n",
      "{'pid': 28820, 'name': 'svchost.exe', 'username': None}\n",
      "{'pid': 28920, 'name': 'RuntimeBroker.exe', 'username': 'RUST-99\\\\crypt'}\n",
      "{'pid': 28936, 'name': 'chrome.exe', 'username': 'RUST-99\\\\crypt'}\n",
      "{'pid': 28984, 'name': 'OverwolfBrowser.exe', 'username': 'RUST-99\\\\crypt'}\n",
      "{'pid': 29128, 'name': 'conhost.exe', 'username': 'RUST-99\\\\crypt'}\n",
      "{'pid': 29192, 'name': 'svchost.exe', 'username': None}\n",
      "{'pid': 29292, 'name': 'chrome.exe', 'username': 'RUST-99\\\\crypt'}\n",
      "{'pid': 29324, 'name': 'chrome.exe', 'username': 'RUST-99\\\\crypt'}\n",
      "{'pid': 29772, 'name': 'python.exe', 'username': 'RUST-99\\\\crypt'}\n",
      "{'pid': 29844, 'name': 'chrome.exe', 'username': 'RUST-99\\\\crypt'}\n",
      "{'pid': 30176, 'name': 'chrome.exe', 'username': 'RUST-99\\\\crypt'}\n",
      "{'pid': 30400, 'name': 'conhost.exe', 'username': 'RUST-99\\\\crypt'}\n",
      "{'pid': 30428, 'name': 'LeagueClientUxRender.exe', 'username': 'RUST-99\\\\crypt'}\n",
      "{'pid': 30548, 'name': 'Code.exe', 'username': 'RUST-99\\\\crypt'}\n",
      "{'pid': 30556, 'name': 'chrome.exe', 'username': 'RUST-99\\\\crypt'}\n",
      "{'pid': 30572, 'name': 'svchost.exe', 'username': None}\n",
      "{'pid': 30640, 'name': 'chrome.exe', 'username': 'RUST-99\\\\crypt'}\n",
      "{'pid': 30736, 'name': 'chrome.exe', 'username': 'RUST-99\\\\crypt'}\n",
      "{'pid': 31296, 'name': 'chrome.exe', 'username': 'RUST-99\\\\crypt'}\n",
      "{'pid': 31476, 'name': 'svchost.exe', 'username': None}\n",
      "{'pid': 31752, 'name': 'chrome.exe', 'username': 'RUST-99\\\\crypt'}\n",
      "{'pid': 31768, 'name': 'msedge.exe', 'username': 'RUST-99\\\\crypt'}\n",
      "{'pid': 31812, 'name': 'bash.exe', 'username': 'RUST-99\\\\crypt'}\n",
      "{'pid': 31980, 'name': 'chrome.exe', 'username': 'RUST-99\\\\crypt'}\n",
      "{'pid': 32004, 'name': 'OverwolfHelper.exe', 'username': 'RUST-99\\\\crypt'}\n",
      "{'pid': 32192, 'name': 'chrome.exe', 'username': 'RUST-99\\\\crypt'}\n",
      "{'pid': 32200, 'name': 'Code.exe', 'username': 'RUST-99\\\\crypt'}\n",
      "{'pid': 32272, 'name': 'chrome.exe', 'username': 'RUST-99\\\\crypt'}\n",
      "{'pid': 32380, 'name': 'chrome.exe', 'username': 'RUST-99\\\\crypt'}\n",
      "{'pid': 32552, 'name': 'chrome.exe', 'username': 'RUST-99\\\\crypt'}\n",
      "{'pid': 32560, 'name': 'LenovoVantage-(LenovoGamingUserAddin).exe', 'username': 'RUST-99\\\\crypt'}\n",
      "{'pid': 32684, 'name': 'Porofessor.gg.exe', 'username': 'RUST-99\\\\crypt'}\n",
      "{'pid': 32988, 'name': 'Code.exe', 'username': 'RUST-99\\\\crypt'}\n",
      "{'pid': 33060, 'name': 'msedge.exe', 'username': 'RUST-99\\\\crypt'}\n",
      "{'pid': 33176, 'name': 'powershell.exe', 'username': 'RUST-99\\\\crypt'}\n",
      "{'pid': 33320, 'name': 'python.exe', 'username': 'RUST-99\\\\crypt'}\n",
      "{'pid': 33360, 'name': 'chrome.exe', 'username': 'RUST-99\\\\crypt'}\n",
      "{'pid': 33372, 'name': 'OpenConsole.exe', 'username': 'RUST-99\\\\crypt'}\n",
      "{'pid': 33696, 'name': 'LenovoVantage-(VantageCoreAddin).exe', 'username': None}\n",
      "{'pid': 33736, 'name': 'LenovoVantageService.exe', 'username': None}\n",
      "{'pid': 33772, 'name': 'svchost.exe', 'username': 'RUST-99\\\\crypt'}\n",
      "{'pid': 33928, 'name': 'conhost.exe', 'username': 'RUST-99\\\\crypt'}\n",
      "{'pid': 33984, 'name': 'conhost.exe', 'username': 'RUST-99\\\\crypt'}\n",
      "{'pid': 34028, 'name': 'OpenConsole.exe', 'username': 'RUST-99\\\\crypt'}\n",
      "{'pid': 34144, 'name': 'svchost.exe', 'username': None}\n",
      "{'pid': 34176, 'name': 'chrome.exe', 'username': 'RUST-99\\\\crypt'}\n",
      "{'pid': 34240, 'name': 'taskhostw.exe', 'username': 'RUST-99\\\\crypt'}\n",
      "{'pid': 34588, 'name': 'chrome.exe', 'username': 'RUST-99\\\\crypt'}\n",
      "{'pid': 34636, 'name': 'LenovoVantage-(LenovoGamingSystemAddin).exe', 'username': None}\n",
      "{'pid': 34724, 'name': 'chrome.exe', 'username': 'RUST-99\\\\crypt'}\n",
      "{'pid': 34804, 'name': 'conhost.exe', 'username': 'RUST-99\\\\crypt'}\n",
      "{'pid': 35048, 'name': 'chrome.exe', 'username': 'RUST-99\\\\crypt'}\n",
      "{'pid': 35456, 'name': 'bash.exe', 'username': 'RUST-99\\\\crypt'}\n",
      "{'pid': 35544, 'name': 'dllhost.exe', 'username': 'RUST-99\\\\crypt'}\n",
      "{'pid': 35952, 'name': 'conhost.exe', 'username': 'RUST-99\\\\crypt'}\n",
      "{'pid': 36016, 'name': 'Code.exe', 'username': 'RUST-99\\\\crypt'}\n",
      "{'pid': 36020, 'name': 'bash.exe', 'username': 'RUST-99\\\\crypt'}\n",
      "{'pid': 36228, 'name': 'chrome.exe', 'username': 'RUST-99\\\\crypt'}\n",
      "{'pid': 36412, 'name': 'chrome.exe', 'username': 'RUST-99\\\\crypt'}\n",
      "{'pid': 36880, 'name': 'Code.exe', 'username': 'RUST-99\\\\crypt'}\n",
      "{'pid': 36968, 'name': 'powershell.exe', 'username': 'RUST-99\\\\crypt'}\n",
      "{'pid': 37148, 'name': 'python.exe', 'username': 'RUST-99\\\\crypt'}\n",
      "{'pid': 37776, 'name': 'python.exe', 'username': 'RUST-99\\\\crypt'}\n",
      "{'pid': 37876, 'name': 'Code.exe', 'username': 'RUST-99\\\\crypt'}\n",
      "{'pid': 37940, 'name': 'RuntimeBroker.exe', 'username': 'RUST-99\\\\crypt'}\n",
      "{'pid': 37996, 'name': 'Code.exe', 'username': 'RUST-99\\\\crypt'}\n",
      "{'pid': 38196, 'name': 'conhost.exe', 'username': 'RUST-99\\\\crypt'}\n",
      "{'pid': 38392, 'name': 'conhost.exe', 'username': 'RUST-99\\\\crypt'}\n",
      "{'pid': 38548, 'name': 'Code.exe', 'username': 'RUST-99\\\\crypt'}\n",
      "{'pid': 38940, 'name': 'bash.exe', 'username': 'RUST-99\\\\crypt'}\n",
      "{'pid': 39028, 'name': 'svchost.exe', 'username': None}\n",
      "{'pid': 39108, 'name': 'python.exe', 'username': 'RUST-99\\\\crypt'}\n",
      "{'pid': 39144, 'name': 'Code.exe', 'username': 'RUST-99\\\\crypt'}\n",
      "{'pid': 39316, 'name': 'Code.exe', 'username': 'RUST-99\\\\crypt'}\n",
      "{'pid': 39328, 'name': 'OverwolfHelper64.exe', 'username': 'RUST-99\\\\crypt'}\n",
      "{'pid': 39444, 'name': 'svchost.exe', 'username': None}\n",
      "{'pid': 39452, 'name': 'LeagueClient.exe', 'username': 'RUST-99\\\\crypt'}\n",
      "{'pid': 39644, 'name': 'LeagueClientUxRender.exe', 'username': 'RUST-99\\\\crypt'}\n",
      "{'pid': 39680, 'name': 'Code.exe', 'username': 'RUST-99\\\\crypt'}\n",
      "{'pid': 39756, 'name': 'audiodg.exe', 'username': None}\n",
      "{'pid': 39800, 'name': 'msedge.exe', 'username': 'RUST-99\\\\crypt'}\n",
      "{'pid': 39884, 'name': 'Code.exe', 'username': 'RUST-99\\\\crypt'}\n",
      "{'pid': 40144, 'name': 'python.exe', 'username': 'RUST-99\\\\crypt'}\n",
      "{'pid': 40228, 'name': 'chrome.exe', 'username': 'RUST-99\\\\crypt'}\n",
      "{'pid': 40272, 'name': 'nosstarter.npe', 'username': None}\n",
      "{'pid': 40500, 'name': 'chrome.exe', 'username': 'RUST-99\\\\crypt'}\n",
      "{'pid': 40576, 'name': 'svchost.exe', 'username': None}\n",
      "{'pid': 40744, 'name': 'chrome.exe', 'username': 'RUST-99\\\\crypt'}\n",
      "{'pid': 40780, 'name': 'OpenConsole.exe', 'username': 'RUST-99\\\\crypt'}\n",
      "{'pid': 40852, 'name': 'RiotClientCrashHandler.exe', 'username': 'RUST-99\\\\crypt'}\n",
      "{'pid': 41064, 'name': 'python.exe', 'username': 'RUST-99\\\\crypt'}\n",
      "{'pid': 41268, 'name': 'chrome.exe', 'username': 'RUST-99\\\\crypt'}\n",
      "{'pid': 41308, 'name': 'chrome.exe', 'username': 'RUST-99\\\\crypt'}\n",
      "{'pid': 41380, 'name': 'vgc.exe', 'username': None}\n",
      "{'pid': 41408, 'name': 'python.exe', 'username': 'RUST-99\\\\crypt'}\n",
      "{'pid': 41556, 'name': 'nossvc.exe', 'username': None}\n",
      "{'pid': 41600, 'name': 'chrome.exe', 'username': 'RUST-99\\\\crypt'}\n",
      "{'pid': 41660, 'name': 'XboxGameBarWidgets.exe', 'username': 'RUST-99\\\\crypt'}\n",
      "{'pid': 41968, 'name': 'Code.exe', 'username': 'RUST-99\\\\crypt'}\n",
      "{'pid': 42096, 'name': 'msedge.exe', 'username': 'RUST-99\\\\crypt'}\n",
      "{'pid': 42212, 'name': 'powershell.exe', 'username': 'RUST-99\\\\crypt'}\n",
      "{'pid': 42252, 'name': 'conhost.exe', 'username': 'RUST-99\\\\crypt'}\n",
      "{'pid': 42428, 'name': 'conhost.exe', 'username': 'RUST-99\\\\crypt'}\n",
      "{'pid': 42452, 'name': 'splwow64.exe', 'username': 'RUST-99\\\\crypt'}\n",
      "{'pid': 42844, 'name': 'msedge.exe', 'username': 'RUST-99\\\\crypt'}\n"
     ]
    }
   ],
   "source": [
    "for proc in psutil.process_iter(attrs=['pid', 'name', 'username']):\n",
    "    print(proc.info)"
   ]
  },
  {
   "cell_type": "code",
   "execution_count": null,
   "metadata": {},
   "outputs": [],
   "source": []
  }
 ],
 "metadata": {
  "kernelspec": {
   "display_name": "Python 3",
   "language": "python",
   "name": "python3"
  },
  "language_info": {
   "codemirror_mode": {
    "name": "ipython",
    "version": 3
   },
   "file_extension": ".py",
   "mimetype": "text/x-python",
   "name": "python",
   "nbconvert_exporter": "python",
   "pygments_lexer": "ipython3",
   "version": "3.12.3"
  }
 },
 "nbformat": 4,
 "nbformat_minor": 2
}
